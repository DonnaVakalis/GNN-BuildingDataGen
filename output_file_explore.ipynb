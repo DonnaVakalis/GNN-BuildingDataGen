{
 "cells": [
  {
   "cell_type": "code",
   "execution_count": null,
   "metadata": {},
   "outputs": [],
   "source": [
    "# build a function to put back in to the main py file that:\n",
    "\n",
    "# with the csv file from the simulator: \n",
    "\n",
    "# removes useless columns\n",
    "\n",
    " "
   ]
  }
 ],
 "metadata": {
  "language_info": {
   "name": "python"
  }
 },
 "nbformat": 4,
 "nbformat_minor": 2
}
